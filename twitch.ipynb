{
 "cells": [
  {
   "cell_type": "code",
   "execution_count": 17,
   "metadata": {},
   "outputs": [
    {
     "name": "stdout",
     "output_type": "stream",
     "text": [
      "Go to the following URL to authorize your application: https://id.twitch.tv/oauth2/authorize?response_type=code&client_id=5ptlhyjetbti68xyl0p5clqd77idkc&redirect_uri=http%3A//localhost%3A8080&scope=chat%3Aread%20chat%3Aedit%20user%3Awrite%3Achat%20user%3Abot%20channel%3Abot\n"
     ]
    }
   ],
   "source": [
    "import urllib.parse\n",
    "\n",
    "CLIENT_ID = '5ptlhyjetbti68xyl0p5clqd77idkc'\n",
    "REDIRECT_URI = 'http://localhost:8080'\n",
    "SCOPES = 'chat:read chat:edit user:write:chat user:bot channel:bot'\n",
    "\n",
    "authorize_url = f'https://id.twitch.tv/oauth2/authorize?response_type=code&client_id={CLIENT_ID}&redirect_uri={urllib.parse.quote(REDIRECT_URI)}&scope={urllib.parse.quote(SCOPES)}'\n",
    "\n",
    "print(f'Go to the following URL to authorize your application: {authorize_url}')\n",
    "\n",
    "result = 'http://localhost:8080/?code=47osmls74cibfxoq3p3n3yslb43ils&scope=chat%3Aread+chat%3Aedit+user%3Awrite%3Achat+user%3Abot+channel%3Abot'\n",
    "code = 'kz338m3z761ttuyd9dq5pdvt954kl3'"
   ]
  },
  {
   "cell_type": "code",
   "execution_count": 18,
   "metadata": {},
   "outputs": [],
   "source": [
    "import requests\n",
    "\n",
    "def exchange_code_for_token(auth_code):\n",
    "    url = 'https://id.twitch.tv/oauth2/token'\n",
    "    data = {\n",
    "        'client_id': '5ptlhyjetbti68xyl0p5clqd77idkc',\n",
    "        'client_secret': 'dmt8imlq3gevbhu7ct0k1nbr3cayrn',\n",
    "        'code': auth_code,\n",
    "        'grant_type': 'authorization_code',\n",
    "        'redirect_uri': REDIRECT_URI\n",
    "    }\n",
    "    response = requests.post(url, data=data)\n",
    "    return response.json()\n",
    "\n",
    "# After user authorizes and is redirected back to your redirect URI, extract the code from the URL and exchange it for tokens\n",
    "auth_code = '47osmls74cibfxoq3p3n3yslb43ils'\n",
    "tokens = exchange_code_for_token(auth_code)\n",
    "access_token = tokens['access_token']\n",
    "refresh_token = tokens['refresh_token']\n"
   ]
  },
  {
   "cell_type": "code",
   "execution_count": 19,
   "metadata": {},
   "outputs": [
    {
     "data": {
      "text/plain": [
       "{'access_token': 'lqmxercufphuasp7ieh4p5ziqmtcvv',\n",
       " 'expires_in': 15064,\n",
       " 'refresh_token': '1btkdtjkara1txh3px618let71wdqheemffhz7a1s64zd53b89',\n",
       " 'scope': ['channel:bot',\n",
       "  'chat:edit',\n",
       "  'chat:read',\n",
       "  'user:bot',\n",
       "  'user:write:chat'],\n",
       " 'token_type': 'bearer'}"
      ]
     },
     "execution_count": 19,
     "metadata": {},
     "output_type": "execute_result"
    }
   ],
   "source": [
    "tokens"
   ]
  },
  {
   "cell_type": "code",
   "execution_count": 4,
   "metadata": {},
   "outputs": [
    {
     "name": "stdout",
     "output_type": "stream",
     "text": [
      "{'data': [{'id': '38823980', 'login': 'jweewee', 'display_name': 'jweewee', 'type': '', 'broadcaster_type': '', 'description': '', 'profile_image_url': 'https://static-cdn.jtvnw.net/user-default-pictures-uv/13e5fa74-defa-11e9-809c-784f43822e80-profile_image-300x300.png', 'offline_image_url': '', 'view_count': 0, 'created_at': '2012-12-28T13:56:09Z'}]}\n"
     ]
    }
   ],
   "source": [
    "headers = {\n",
    "    'Authorization': f'Bearer {access_token}',\n",
    "    'Client-ID': CLIENT_ID\n",
    "}\n",
    "\n",
    "response = requests.get('https://api.twitch.tv/helix/users', headers=headers)\n",
    "print(response.json())"
   ]
  },
  {
   "cell_type": "code",
   "execution_count": null,
   "metadata": {},
   "outputs": [],
   "source": [
    "def refresh_access_token(refresh_token):\n",
    "    url = 'https://id.twitch.tv/oauth2/token'\n",
    "    data = {\n",
    "        'grant_type': 'refresh_token',\n",
    "        'refresh_token': refresh_token,\n",
    "        'client_id': CLIENT_ID,\n",
    "        'client_secret': 'dmt8imlq3gevbhu7ct0k1nbr3cayrn'\n",
    "    }\n",
    "    response = requests.post(url, data=data)\n",
    "    return response.json()\n",
    "\n",
    "new_tokens = refresh_access_token(refresh_token)\n",
    "access_token = new_tokens['access_token']\n",
    "refresh_token = new_tokens['refresh_token']\n"
   ]
  },
  {
   "cell_type": "code",
   "execution_count": 5,
   "metadata": {},
   "outputs": [],
   "source": [
    "import time\n",
    "import json\n",
    "import logging\n",
    "import requests\n",
    "from collections import Counter\n",
    "from confluent_kafka import Consumer, KafkaError\n",
    "from twitchio.ext import commands\n",
    "\n",
    "\n",
    "import config"
   ]
  },
  {
   "cell_type": "code",
   "execution_count": 26,
   "metadata": {},
   "outputs": [],
   "source": [
    "logging.basicConfig(filename='de.log', filemode='w', format='%(name)s - %(levelname)s - %(message)s', level=logging.INFO)\n",
    "\n",
    "# Twitch API endpoint for sending messages\n",
    "TWITCH_API_ENDPOINT = 'https://api.twitch.tv/helix/chat/messages'\n",
    "\n",
    "\n",
    "class TwitchBot:\n",
    "    def __init__(self, token, channel):\n",
    "        self.token = token\n",
    "        self.channel = channel\n",
    "        logging.info(f\"Bot setup!\")\n",
    "\n",
    "\n",
    "    def send_message(self, message):\n",
    "        headers = {\n",
    "            'Authorization': f'Bearer {self.token}',\n",
    "            'Client-Id': CLIENT_ID,\n",
    "            'Content-Type': 'application/json'\n",
    "        }\n",
    "        payload = {\n",
    "            'channel': self.channel,\n",
    "            'message': message\n",
    "        }\n",
    "        response = requests.post(TWITCH_API_ENDPOINT, headers=headers, json=payload)\n",
    "        if response.status_code == 200:\n",
    "            logging.info(f\"Message sent to Twitch chat: {message}\")\n",
    "        else:\n",
    "            logging.error(f\"Failed to send message: {response.status_code} {response.text}\")\n",
    "\n",
    "\n",
    "class KafkaConsumer:\n",
    "    def __init__(self, bot):\n",
    "        self.bot = bot\n",
    "        self.configuration = config.read_config()\n",
    "        self.configuration[\"group.id\"] = \"python-group-1\"\n",
    "        self.configuration[\"auto.offset.reset\"] = \"earliest\"\n",
    "        self.consumer = Consumer(self.configuration)\n",
    "        self.topic = \"reddit_nba\"\n",
    "\n",
    "    def start_consuming(self):\n",
    "        self.consumer.subscribe([self.topic])\n",
    "        try:\n",
    "            while True:\n",
    "                msg = self.consumer.poll(1.0)\n",
    "                if msg is not None and msg.error() is None:\n",
    "                    key = msg.key().decode(\"utf-8\")\n",
    "                    value = msg.value().decode(\"utf-8\")\n",
    "\n",
    "                    comment_data = json.loads(value)\n",
    "                    comment_body = comment_data['body']\n",
    "                    logging.info(f\"Consumed message from topic: {self.topic}: Key/Comment_id-> {key} Value-> Comment_data of id: {key}\")\n",
    "\n",
    "                    self.bot.send_message(comment_body)\n",
    "        except KeyboardInterrupt:\n",
    "            pass\n",
    "        finally:\n",
    "            self.consumer.close()\n",
    "            logging.info(\"Consumer closed.\")\n",
    "\n",
    "\n",
    "def main():\n",
    "    # access_token = \"lqmxercufphuasp7ieh4p5ziqmtcvv\"\n",
    "    logging.info(\"Starting bot...\")\n",
    "    bot = TwitchBot(token=access_token, channel='jweewee')\n",
    "    logging.info(\"Bot setup...\")\n",
    "    # kafka_consumer = KafkaConsumer(bot)\n",
    "    # kafka_consumer.start_consuming()\n",
    "    bot.send_message(\"Hello World!\")\n",
    "\n",
    "if __name__ == \"__main__\":\n",
    "    main()"
   ]
  }
 ],
 "metadata": {
  "kernelspec": {
   "display_name": "base",
   "language": "python",
   "name": "python3"
  },
  "language_info": {
   "codemirror_mode": {
    "name": "ipython",
    "version": 3
   },
   "file_extension": ".py",
   "mimetype": "text/x-python",
   "name": "python",
   "nbconvert_exporter": "python",
   "pygments_lexer": "ipython3",
   "version": "3.1.-1"
  }
 },
 "nbformat": 4,
 "nbformat_minor": 2
}
