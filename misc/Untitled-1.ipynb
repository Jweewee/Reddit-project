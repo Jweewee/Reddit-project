{
 "cells": [
  {
   "cell_type": "code",
   "execution_count": 52,
   "metadata": {},
   "outputs": [],
   "source": [
    "# !pip install praw\n",
    "import praw\n",
    "import config\n",
    "from datetime import datetime  \n",
    "import csv\n"
   ]
  },
  {
   "cell_type": "code",
   "execution_count": 53,
   "metadata": {},
   "outputs": [],
   "source": [
    "def bot_login():\n",
    "    reddit = praw.Reddit(\n",
    "        username = config.username,\n",
    "        password = config.password,\n",
    "        client_id = config.client_id,\n",
    "        client_secret = config.client_secret,\n",
    "        user_agent = \"joshua's data project\")\n",
    "    return reddit\n",
    "\n",
    "def run_bot(r):\n",
    "    # for comment in r.subreddit('test').comments(limit=25):\n",
    "    #     if \"nba\" in comment.body:\n",
    "    #         print(\"Yes nba found\")\n",
    "    submission = r.submission(id='1cw0w7f')\n",
    "    # submission = r.submission(url=\"https://www.reddit.com/r/nba/comments/1cw0w7f/game_thread_minnesota_timberwolves_33_denver/\")\n",
    "    for comment in submission.comments:\n",
    "        print(comment.body)\n",
    "\n",
    "\n",
    "def get_comments(r, subreddit, thread_id):\n",
    "    submission = r.submission(id=thread_id)\n",
    "    submission.comments.replace_more(limit=None)\n",
    "    comments = []\n",
    "    # for comment in submission.comments.list():\n",
    "    #     comments.append({\n",
    "    #         'author': comment.author.name,\n",
    "    #         'body': comment.body,\n",
    "    #         'created_utc': comment.created_utc,\n",
    "    #         'id': comment.id,\n",
    "    #         'parent_id': comment.parent_id,\n",
    "    #         'score': comment.score\n",
    "    #     })\n",
    "    # return comments\n",
    "    submission.comments.replace_more(limit=0)\n",
    "\n",
    "    with open('reddit.csv', 'w', newline='') as csvfile:\n",
    "        fieldnames = ['time', 'comment']\n",
    "        writer = csv.DictWriter(csvfile, fieldnames=fieldnames)\n",
    "        writer.writeheader()\n",
    "        for top_level_comment in submission.comments:\n",
    "            body = top_level_comment.body\n",
    "            time = datetime.fromtimestamp(top_level_comment.created_utc)\n",
    "            writer.writerow({'time': time,'comment': body})\n",
    "\n",
    "r = bot_login()"
   ]
  },
  {
   "cell_type": "code",
   "execution_count": 42,
   "metadata": {},
   "outputs": [],
   "source": [
    "\n",
    "get_comments(r, 'nus', '1d6xjhs')\n",
    "\n"
   ]
  },
  {
   "cell_type": "code",
   "execution_count": 3,
   "metadata": {},
   "outputs": [
    {
     "ename": "SyntaxError",
     "evalue": "invalid syntax (3756372798.py, line 1)",
     "output_type": "error",
     "traceback": [
      "\u001b[0;36m  Cell \u001b[0;32mIn[3], line 1\u001b[0;36m\u001b[0m\n\u001b[0;31m    curl -X POST -d 'grant_type=password&username=hehethrowaway7654321&password=God5lessme@@' --user 'fAaXZvLi3uqUvS_de8SJug' https://www.reddit.com/api/v1/access_token\u001b[0m\n\u001b[0m            ^\u001b[0m\n\u001b[0;31mSyntaxError\u001b[0m\u001b[0;31m:\u001b[0m invalid syntax\n"
     ]
    }
   ],
   "source": [
    "curl -X POST -d 'grant_type=password&username=hehethrowaway7654321&password=God5lessme@@' --user 'fAaXZvLi3uqUvS_de8SJug' https://www.reddit.com/api/v1/access_token\n",
    "{\n",
    "    \"access_token\": \"-1QlbpZjUAtYXY-w9VEGJgnbzJTH1g\", \n",
    "    \"expires_in\": 3600, \n",
    "    \"scope\": \"*\", \n",
    "    \"token_type\": \"bearer\"\n",
    "}"
   ]
  },
  {
   "cell_type": "code",
   "execution_count": null,
   "metadata": {},
   "outputs": [],
   "source": [
    "def get_comments(subreddit, thread_id):\n",
    "    submission = reddit.submission(id=thread_id)\n",
    "    submission.comments.replace_more(limit=None)\n",
    "    comments = []\n",
    "    for comment in submission.comments.list():\n",
    "        comments.append({\n",
    "            'author': comment.author.name,\n",
    "            'body': comment.body,\n",
    "            'created_utc': comment.created_utc,\n",
    "            'id': comment.id,\n",
    "            'parent_id': comment.parent_id,\n",
    "            'score': comment.score\n",
    "        })\n",
    "    return comments\n",
    "\n",
    "comments = get_comments('subreddit_name', 'thread_id')\n",
    "print(comments)"
   ]
  },
  {
   "cell_type": "code",
   "execution_count": 25,
   "metadata": {},
   "outputs": [
    {
     "name": "stdout",
     "output_type": "stream",
     "text": [
      "[[-2, 'b'], [-2, 'c']]\n",
      "[[-2, 'c']]\n",
      "[[-2, 'c']]\n",
      "[[-1, 'b']]\n",
      "[[-1, 'b']]\n",
      "[[-1, 'c']]\n",
      "[]\n",
      "abacabc\n"
     ]
    }
   ],
   "source": [
    "# def reorganizeString(s: str) -> str:\n",
    "#     sorted_freq =  sorted(s)\n",
    "#     mid_pt = len(sorted_freq) // 2  #7 -> midpt = 3, 0:3  3:6\n",
    "#     s1 = s[:mid_pt]\n",
    "#     s2 = s[mid_pt:]\n",
    "#     print(s1,s2)\n",
    "#     res = \"\"\n",
    "#     for i in range(mid_pt):\n",
    "#         res += s1[i] + s2[i]\n",
    "    \n",
    "#     if len(s) % 2 != 0:\n",
    "#         res += s2[-1]\n",
    "#     return res\n",
    "from collections import Counter\n",
    "import heapq\n",
    "\n",
    "def reorganizeString(s: str) -> str:\n",
    "    res = \"\"\n",
    "    count = Counter(s) #Hashmap, count each char\n",
    "    maxHeap = [ [-cnt, char] for char, cnt in count.items()] \n",
    "    heapq.heapify(maxHeap)\n",
    "\n",
    "    prev = None\n",
    "\n",
    "    while maxHeap or prev:\n",
    "        popped = heapq.heappop(maxHeap)\n",
    "        val, char_append = popped[0], popped[1]\n",
    "        val += 1\n",
    "        res += char_append\n",
    "        print(maxHeap)\n",
    "        if prev: \n",
    "            heapq.heappush(maxHeap, prev)\n",
    "            prev = None\n",
    "        if val != 0: \n",
    "            prev = [val, char_append]\n",
    "    return res\n",
    "\n",
    "\n",
    "\n",
    "string = \"aaabbcc\"\n",
    "\n",
    "\n",
    "# print((\"\").join(reorganizeString(string)))\n",
    "print(reorganizeString(string))\n"
   ]
  },
  {
   "cell_type": "code",
   "execution_count": 35,
   "metadata": {},
   "outputs": [
    {
     "name": "stdout",
     "output_type": "stream",
     "text": [
      "1.0\n",
      "5.5\n",
      "4.666666666666667\n",
      "6.0\n"
     ]
    }
   ],
   "source": [
    "class MovingAverage:\n",
    "    def __init__(self, size: int):\n",
    "        self.size = size\n",
    "        self.numbers = []\n",
    "        self.sum = 0\n",
    "\n",
    "    def next(self, added):\n",
    "        if len(self.numbers) < self.size:\n",
    "            self.numbers.append(added)\n",
    "            self.sum += added\n",
    "            return self.sum / len(self.numbers)\n",
    "        else:\n",
    "            self.sum -= self.numbers.pop(0)\n",
    "            self.numbers.append(added)\n",
    "            self.sum += added\n",
    "            return self.sum / len(self.numbers)\n",
    "        \n",
    "s = MovingAverage(3)\n",
    "print(s.next(1))\n",
    "print(s.next(10))\n",
    "print(s.next(3))\n",
    "print(s.next(5))\n",
    "\n",
    "\n",
    "\n"
   ]
  },
  {
   "cell_type": "code",
   "execution_count": 51,
   "metadata": {},
   "outputs": [
    {
     "name": "stdout",
     "output_type": "stream",
     "text": [
      "[[], [1, 4, 6], [3, 2, 5], [], [], [], [], [], [], []]\n"
     ]
    }
   ],
   "source": [
    "from typing import List\n",
    "from collections import OrderedDict\n",
    "\n",
    "def findKthLargest(nums: List[int], k: int) -> int:\n",
    "    count = {}\n",
    "    map = [[] for x in range(len(nums) + 1)]\n",
    "    for digit in nums:\n",
    "        count[digit] = 1 + count.get(digit, 0)\n",
    "    for digit, cnt in count.items():\n",
    "        map[cnt].append(digit)\n",
    "    return mapz``\n",
    "\n",
    "\n",
    "\n",
    "nums = [3,2,3,1,2,4,5,5,6]\n",
    "k = 2\n",
    "print(findKthLargest(nums, k))\n",
    "\n",
    "\n",
    "# 1,2,3,4,5,6 : k=2-> 5, k=4->4"
   ]
  },
  {
   "cell_type": "code",
   "execution_count": null,
   "metadata": {},
   "outputs": [],
   "source": []
  }
 ],
 "metadata": {
  "kernelspec": {
   "display_name": "Python 3",
   "language": "python",
   "name": "python3"
  },
  "language_info": {
   "codemirror_mode": {
    "name": "ipython",
    "version": 3
   },
   "file_extension": ".py",
   "mimetype": "text/x-python",
   "name": "python",
   "nbconvert_exporter": "python",
   "pygments_lexer": "ipython3",
   "version": "3.1.-1"
  }
 },
 "nbformat": 4,
 "nbformat_minor": 2
}
