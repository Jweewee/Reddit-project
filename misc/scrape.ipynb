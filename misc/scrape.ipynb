{
 "cells": [
  {
   "cell_type": "code",
   "execution_count": 5,
   "metadata": {},
   "outputs": [],
   "source": [
    "import re\n",
    "import csv\n",
    "import pandas as pd"
   ]
  },
  {
   "cell_type": "code",
   "execution_count": 7,
   "metadata": {},
   "outputs": [],
   "source": [
    "# with open('MDM_Note_Doc_Type.txt') as f:\n",
    "#     lines = f.readlines()\n",
    "#     f.close()\n",
    "# # print(len(lines)) #647\n",
    "# # with open()\n",
    "# # entries = []\n",
    "# # entry = []\n",
    "\n",
    "# id = []\n",
    "# title = []\n",
    "\n",
    "# df = pd.DataFrame()\n",
    "# # with open('new.csv', 'w', newline='') as csvfile:\n",
    "# #     fieldnames = ['Category number', 'Title']\n",
    "# #     writer = csv.DictWriter(csvfile, fieldnames=fieldnames)\n",
    "# for line_num in range(647):\n",
    "#     if \"Category number\" in lines[line_num]:\n",
    "#         id1 = lines[line_num].strip()\n",
    "#         t1 = lines[line_num + 1].strip()\n",
    "#         t1_res = []\n",
    "#         id1_df = id1.replace(\"Category number:\", \"\").split()\n",
    "#         abbreviation = lines[line_num + 4].strip()\n",
    "#         abbreviation_res = []\n",
    "#         for a in abbreviation.split(\"Abbreviation:\"):\n",
    "#             if a == \"\":\n",
    "#                 continue    \n",
    "#             abbreviation_res.append(a.strip())\n",
    "#         for t1 in t1.strip().split(\"Title:\"):\n",
    "#             if t1 == \"\":\n",
    "#                 continue\n",
    "#             t1_res.append(t1.strip())\n",
    "#         # print(t1_res)\n",
    "#         s1 = pd.Series(id1_df)\n",
    "#         s2 = pd.Series(t1_res)\n",
    "#         s3 = pd.Series(abbreviation_res)\n",
    "#         df2 = pd.concat([s1,s2,s3], axis = 1)\n",
    "#         df = pd.concat([df, df2], axis = 0, ignore_index= True)\n",
    "\n",
    "# df.to_csv('new.csv', index = False)\n",
    "        "
   ]
  },
  {
   "cell_type": "code",
   "execution_count": null,
   "metadata": {},
   "outputs": [],
   "source": []
  }
 ],
 "metadata": {
  "kernelspec": {
   "display_name": "base",
   "language": "python",
   "name": "python3"
  },
  "language_info": {
   "codemirror_mode": {
    "name": "ipython",
    "version": 3
   },
   "file_extension": ".py",
   "mimetype": "text/x-python",
   "name": "python",
   "nbconvert_exporter": "python",
   "pygments_lexer": "ipython3",
   "version": "3.1.-1"
  }
 },
 "nbformat": 4,
 "nbformat_minor": 2
}
